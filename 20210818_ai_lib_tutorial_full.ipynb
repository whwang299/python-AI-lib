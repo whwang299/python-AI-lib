{
 "cells": [
  {
   "cell_type": "markdown",
   "metadata": {
    "id": "zHTChrY3AdOt"
   },
   "source": [
    "#0. Prerequisites"
   ]
  },
  {
   "cell_type": "code",
   "execution_count": 1,
   "metadata": {
    "collapsed": true,
    "id": "zK1iiL1_Ah7n"
   },
   "outputs": [
    {
     "name": "stdout",
     "output_type": "stream",
     "text": [
      "Cloning into 'stylegan2-ada-pytorch'...\n",
      "remote: Enumerating objects: 125, done.\u001b[K\n",
      "remote: Total 125 (delta 0), reused 0 (delta 0), pack-reused 125\u001b[K\n",
      "Receiving objects: 100% (125/125), 1.12 MiB | 5.80 MiB/s, done.\n",
      "Resolving deltas: 100% (55/55), done.\n",
      "--2021-08-12 19:01:36--  https://nvlabs-fi-cdn.nvidia.com/stylegan2-ada-pytorch/pretrained/ffhq.pkl\n",
      "Resolving nvlabs-fi-cdn.nvidia.com (nvlabs-fi-cdn.nvidia.com)... 13.225.114.124, 13.225.114.57, 13.225.114.22, ...\n",
      "Connecting to nvlabs-fi-cdn.nvidia.com (nvlabs-fi-cdn.nvidia.com)|13.225.114.124|:443... connected.\n",
      "HTTP request sent, awaiting response... 200 OK\n",
      "Length: 381624121 (364M) [binary/octet-stream]\n",
      "Saving to: ‘ffhq.pkl’\n",
      "\n",
      "ffhq.pkl            100%[===================>] 363.94M  11.7MB/s    in 51s     \n",
      "\n",
      "2021-08-12 19:02:29 (7.15 MB/s) - ‘ffhq.pkl’ saved [381624121/381624121]\n",
      "\n",
      "Cloning into 'KLUE'...\n",
      "remote: Enumerating objects: 151, done.\u001b[K\n",
      "remote: Counting objects: 100% (151/151), done.\u001b[K\n",
      "remote: Compressing objects: 100% (131/131), done.\u001b[K\n",
      "remote: Total 151 (delta 40), reused 42 (delta 4), pack-reused 0\u001b[K\n",
      "Receiving objects: 100% (151/151), 41.65 MiB | 17.79 MiB/s, done.\n",
      "Resolving deltas: 100% (40/40), done.\n",
      "Requirement already satisfied: transformers in /Users/wonseok/miniconda3/envs/ai_tuto/lib/python3.9/site-packages (4.9.1)\n",
      "Requirement already satisfied: filelock in /Users/wonseok/miniconda3/envs/ai_tuto/lib/python3.9/site-packages (from transformers) (3.0.12)\n",
      "Requirement already satisfied: tqdm>=4.27 in /Users/wonseok/miniconda3/envs/ai_tuto/lib/python3.9/site-packages (from transformers) (4.62.0)\n",
      "Requirement already satisfied: packaging in /Users/wonseok/miniconda3/envs/ai_tuto/lib/python3.9/site-packages (from transformers) (21.0)\n",
      "Requirement already satisfied: regex!=2019.12.17 in /Users/wonseok/miniconda3/envs/ai_tuto/lib/python3.9/site-packages (from transformers) (2021.7.6)\n",
      "Requirement already satisfied: huggingface-hub==0.0.12 in /Users/wonseok/miniconda3/envs/ai_tuto/lib/python3.9/site-packages (from transformers) (0.0.12)\n",
      "Requirement already satisfied: numpy>=1.17 in /Users/wonseok/miniconda3/envs/ai_tuto/lib/python3.9/site-packages (from transformers) (1.21.1)\n",
      "Requirement already satisfied: sacremoses in /Users/wonseok/miniconda3/envs/ai_tuto/lib/python3.9/site-packages (from transformers) (0.0.45)\n",
      "Requirement already satisfied: tokenizers<0.11,>=0.10.1 in /Users/wonseok/miniconda3/envs/ai_tuto/lib/python3.9/site-packages (from transformers) (0.10.3)\n",
      "Requirement already satisfied: pyyaml>=5.1 in /Users/wonseok/miniconda3/envs/ai_tuto/lib/python3.9/site-packages (from transformers) (5.4.1)\n",
      "Requirement already satisfied: requests in /Users/wonseok/miniconda3/envs/ai_tuto/lib/python3.9/site-packages (from transformers) (2.26.0)\n",
      "Requirement already satisfied: typing-extensions in /Users/wonseok/miniconda3/envs/ai_tuto/lib/python3.9/site-packages (from huggingface-hub==0.0.12->transformers) (3.10.0.0)\n",
      "Requirement already satisfied: pyparsing>=2.0.2 in /Users/wonseok/miniconda3/envs/ai_tuto/lib/python3.9/site-packages (from packaging->transformers) (2.4.7)\n",
      "Requirement already satisfied: idna<4,>=2.5 in /Users/wonseok/miniconda3/envs/ai_tuto/lib/python3.9/site-packages (from requests->transformers) (3.2)\n",
      "Requirement already satisfied: certifi>=2017.4.17 in /Users/wonseok/miniconda3/envs/ai_tuto/lib/python3.9/site-packages (from requests->transformers) (2021.5.30)\n",
      "Requirement already satisfied: urllib3<1.27,>=1.21.1 in /Users/wonseok/miniconda3/envs/ai_tuto/lib/python3.9/site-packages (from requests->transformers) (1.26.6)\n",
      "Requirement already satisfied: charset-normalizer~=2.0.0 in /Users/wonseok/miniconda3/envs/ai_tuto/lib/python3.9/site-packages (from requests->transformers) (2.0.4)\n",
      "Requirement already satisfied: joblib in /Users/wonseok/miniconda3/envs/ai_tuto/lib/python3.9/site-packages (from sacremoses->transformers) (1.0.1)\n",
      "Requirement already satisfied: click in /Users/wonseok/miniconda3/envs/ai_tuto/lib/python3.9/site-packages (from sacremoses->transformers) (8.0.1)\n",
      "Requirement already satisfied: six in /Users/wonseok/miniconda3/envs/ai_tuto/lib/python3.9/site-packages (from sacremoses->transformers) (1.16.0)\n"
     ]
    }
   ],
   "source": [
    "!git clone https://github.com/NVlabs/stylegan2-ada-pytorch.git\n",
    "!wget https://nvlabs-fi-cdn.nvidia.com/stylegan2-ada-pytorch/pretrained/ffhq.pkl\n",
    "!git clone https://github.com/KLUE-benchmark/KLUE.git\n",
    "!pip install transformers"
   ]
  },
  {
   "cell_type": "code",
   "execution_count": 2,
   "metadata": {
    "colab": {
     "base_uri": "https://localhost:8080/",
     "height": 168,
     "referenced_widgets": [
      "338c5b6aa3664037b7b6d0fd064f238f",
      "0b11813afb8a4f59aa78d196170c158c",
      "8498157a7fdd4131b6366255f6df9d1c",
      "e12253a10c454aeaa564531731728aa1",
      "fffe010a840f4734a95813f3e6e0a735",
      "9aabf843dd4e4bb38d1e06dad093cb70",
      "6ea35b5e4e494a4cb4d01f8ce45c3cd7",
      "28079cce1235406ba2e5576c5dcd6b2a"
     ]
    },
    "id": "4tweuesuy3a9",
    "outputId": "6e6cc898-5eb6-4496-c122-fa28941cb424"
   },
   "outputs": [
    {
     "name": "stderr",
     "output_type": "stream",
     "text": [
      "The tokenizer class you load from this checkpoint is not the same type as the class this function is called from. It may result in unexpected tokenization. \n",
      "The tokenizer class you load from this checkpoint is 'GPT2Tokenizer'. \n",
      "The class this function is called from is 'PreTrainedTokenizerFast'.\n",
      "The tokenizer class you load from this checkpoint is not the same type as the class this function is called from. It may result in unexpected tokenization. \n",
      "The tokenizer class you load from this checkpoint is 'GPT2Tokenizer'. \n",
      "The class this function is called from is 'PreTrainedTokenizerFast'.\n"
     ]
    }
   ],
   "source": [
    "from pprint import pprint\n",
    "import torch\n",
    "from transformers import PreTrainedTokenizerFast, GPT2LMHeadModel\n",
    "from transformers import AutoModelForQuestionAnswering, AutoTokenizer, pipeline\n",
    "\n",
    "model_name = \"deepset/roberta-base-squad2\"\n",
    "model = AutoModelForQuestionAnswering.from_pretrained(model_name)\n",
    "tokenizer = AutoTokenizer.from_pretrained(model_name)\n",
    "\n",
    "model_name = \"skt/kogpt2-base-v2\"\n",
    "tokenizer = PreTrainedTokenizerFast.from_pretrained(model_name)\n",
    "model = GPT2LMHeadModel.from_pretrained(model_name)\n",
    "tokenizer = PreTrainedTokenizerFast.from_pretrained(model_name)"
   ]
  },
  {
   "cell_type": "markdown",
   "metadata": {
    "id": "yLFJzjcj_Elh"
   },
   "source": [
    "# 1. NumPy"
   ]
  },
  {
   "cell_type": "code",
   "execution_count": 3,
   "metadata": {
    "colab": {
     "base_uri": "https://localhost:8080/"
    },
    "id": "rzp96aUs_99K",
    "outputId": "86877f1a-5269-4045-eec5-cbc8e3f96653"
   },
   "outputs": [
    {
     "name": "stdout",
     "output_type": "stream",
     "text": [
      "1 10\n",
      "2 20\n",
      "3 30\n"
     ]
    },
    {
     "data": {
      "text/plain": [
       "[11, 22, 33]"
      ]
     },
     "execution_count": 3,
     "metadata": {},
     "output_type": "execute_result"
    }
   ],
   "source": [
    "##\n",
    "1 + 3\n",
    "\n",
    "##\n",
    "a = [1,2,3]\n",
    "b = [10,20,30]\n",
    "\n",
    "##\n",
    "a + b\n",
    "\n",
    "##\n",
    "c = []\n",
    "for a1, b1 in zip(a,b):\n",
    "    print(a1,b1)\n",
    "    c.append(a1 + b1)\n",
    "\n",
    "##\n",
    "[a1 + b1 for a1, b1 in zip(a,b)]"
   ]
  },
  {
   "cell_type": "code",
   "execution_count": 4,
   "metadata": {
    "colab": {
     "base_uri": "https://localhost:8080/"
    },
    "id": "ZPCMkGxdAPmn",
    "outputId": "03a96b90-3e20-4e17-d127-277689603981"
   },
   "outputs": [
    {
     "data": {
      "text/plain": [
       "array([11, 22, 33])"
      ]
     },
     "execution_count": 4,
     "metadata": {},
     "output_type": "execute_result"
    }
   ],
   "source": [
    "import numpy as np\n",
    "a = np.array(a)\n",
    "b = np.array(b)\n",
    "c = a + b\n",
    "c"
   ]
  },
  {
   "cell_type": "code",
   "execution_count": 5,
   "metadata": {
    "colab": {
     "base_uri": "https://localhost:8080/"
    },
    "id": "ct0qI3c1ASIm",
    "outputId": "869fa674-e026-45a2-b05e-ca443e3be09c"
   },
   "outputs": [
    {
     "data": {
      "text/plain": [
       "array([4.45912557, 1.9284196 , 2.6642978 ])"
      ]
     },
     "execution_count": 5,
     "metadata": {},
     "output_type": "execute_result"
    }
   ],
   "source": [
    "a*b\n",
    "np.argsort([3,4,1,2,39])\n",
    "r = np.random.rand(3,3)\n",
    "r@a"
   ]
  },
  {
   "cell_type": "markdown",
   "metadata": {
    "id": "UAVgxg2WATVh"
   },
   "source": [
    "#2. Matplotlib"
   ]
  },
  {
   "cell_type": "code",
   "execution_count": 6,
   "metadata": {
    "id": "ArfnbQf3AaP7"
   },
   "outputs": [],
   "source": [
    "import matplotlib.pylab as plt"
   ]
  },
  {
   "cell_type": "code",
   "execution_count": 7,
   "metadata": {
    "colab": {
     "base_uri": "https://localhost:8080/",
     "height": 282
    },
    "id": "sMomAMhLApcX",
    "outputId": "25509e02-3c5f-4ca1-f9f8-dc8046fe0c35"
   },
   "outputs": [
    {
     "data": {
      "text/plain": [
       "[<matplotlib.lines.Line2D at 0x7fadcd37eb80>]"
      ]
     },
     "execution_count": 7,
     "metadata": {},
     "output_type": "execute_result"
    },
    {
     "data": {
      "image/png": "[encoded data removed]",
      "text/plain": [
       "<Figure size 432x288 with 1 Axes>"
      ]
     },
     "metadata": {
      "needs_background": "light"
     },
     "output_type": "display_data"
    }
   ],
   "source": [
    "x = plt.arange(0,20, 0.1)\n",
    "y = plt.sin(x)\n",
    "plt.plot(x,y)"
   ]
  },
  {
   "cell_type": "markdown",
   "metadata": {
    "id": "UCKDIovEAr-Z"
   },
   "source": [
    "# 3. Scikit-learn"
   ]
  },
  {
   "cell_type": "code",
   "execution_count": 8,
   "metadata": {
    "id": "oqyn9hNxAzcZ"
   },
   "outputs": [],
   "source": [
    "import matplotlib.pylab as plt\n",
    "from sklearn import datasets, svm, metrics\n",
    "from sklearn.model_selection import train_test_split"
   ]
  },
  {
   "cell_type": "markdown",
   "metadata": {
    "id": "J646KWS3A27Z"
   },
   "source": [
    "## 3.1 Data"
   ]
  },
  {
   "cell_type": "code",
   "execution_count": 9,
   "metadata": {
    "id": "sApiF8z8A1fz"
   },
   "outputs": [],
   "source": [
    "digits = datasets.load_digits()"
   ]
  },
  {
   "cell_type": "code",
   "execution_count": 10,
   "metadata": {
    "colab": {
     "base_uri": "https://localhost:8080/",
     "height": 281
    },
    "id": "InhoEBCqA5RX",
    "outputId": "d30cbf3f-ea69-497f-96cf-d2ed4923ac53"
   },
   "outputs": [
    {
     "data": {
      "image/png": "[encoded data removed]",
      "text/plain": [
       "<Figure size 432x288 with 1 Axes>"
      ]
     },
     "metadata": {
      "needs_background": "light"
     },
     "output_type": "display_data"
    }
   ],
   "source": [
    "for i in range(1):\n",
    "    img = digits.images[i]\n",
    "    label = digits.target[i]\n",
    "    plt.figure()\n",
    "    plt.imshow(img, cmap=plt.cm.gray_r)\n",
    "    plt.title(label)"
   ]
  },
  {
   "cell_type": "code",
   "execution_count": 11,
   "metadata": {
    "id": "NkysdJL2A60I"
   },
   "outputs": [],
   "source": [
    "n_samples = len(digits.images)"
   ]
  },
  {
   "cell_type": "markdown",
   "metadata": {
    "id": "miCjBrZBA77y"
   },
   "source": [
    "## 3.2. Learning (Model)"
   ]
  },
  {
   "cell_type": "code",
   "execution_count": 12,
   "metadata": {
    "colab": {
     "base_uri": "https://localhost:8080/"
    },
    "id": "vvIiuzYeBDXp",
    "outputId": "d2edfd79-0b4c-4968-e395-167b51bfa122"
   },
   "outputs": [
    {
     "name": "stdout",
     "output_type": "stream",
     "text": [
      "(1797, 8, 8)\n",
      "(1797, 64)\n"
     ]
    },
    {
     "data": {
      "text/plain": [
       "SVC(gamma=0.001)"
      ]
     },
     "execution_count": 12,
     "metadata": {},
     "output_type": "execute_result"
    }
   ],
   "source": [
    "# Flatten images\n",
    "print(digits.images.shape)\n",
    "data = digits.images.reshape(n_samples, -1)\n",
    "print(data.shape)\n",
    "\n",
    "clf = svm.SVC(gamma=0.001)\n",
    "\n",
    "X_train, X_test, y_train, y_test = train_test_split(\n",
    "    data, digits.target, test_size=0.2, shuffle=False\n",
    ")\n",
    "\n",
    "clf.fit(X_train, y_train)"
   ]
  },
  {
   "cell_type": "markdown",
   "metadata": {
    "id": "fc3UXPmyBJFI"
   },
   "source": [
    "## 3.3 Test"
   ]
  },
  {
   "cell_type": "code",
   "execution_count": 13,
   "metadata": {
    "id": "SLSDYkxHBLp7"
   },
   "outputs": [],
   "source": [
    "predicted = clf.predict(X_test)"
   ]
  },
  {
   "cell_type": "code",
   "execution_count": 14,
   "metadata": {
    "colab": {
     "base_uri": "https://localhost:8080/",
     "height": 281
    },
    "id": "WuX49GKbBNIJ",
    "outputId": "0c1b8b8d-b95c-4f22-bc72-dbdcec8ffac0"
   },
   "outputs": [
    {
     "data": {
      "image/png": "[encoded data removed]",
      "text/plain": [
       "<Figure size 432x288 with 1 Axes>"
      ]
     },
     "metadata": {
      "needs_background": "light"
     },
     "output_type": "display_data"
    }
   ],
   "source": [
    "for img, gt_label, pr_label in zip(X_test[:1], y_test[:1], predicted[:1]):\n",
    "    plt.figure()\n",
    "    plt.imshow(img.reshape(8,8), cmap=plt.cm.gray_r)\n",
    "    plt.title(f\"True label {gt_label}, Predicted label {pr_label}\")"
   ]
  },
  {
   "cell_type": "markdown",
   "metadata": {
    "id": "vs97eIGSBP35"
   },
   "source": [
    "## 3.4 Change Gamma, test set ratio"
   ]
  },
  {
   "cell_type": "code",
   "execution_count": 15,
   "metadata": {
    "colab": {
     "base_uri": "https://localhost:8080/",
     "height": 809
    },
    "id": "QQ9BEJTgBTiU",
    "outputId": "b344074d-4ce2-49ee-992b-f749176e9399"
   },
   "outputs": [
    {
     "data": {
      "image/png": "[encoded data removed]",
      "text/plain": [
       "<Figure size 432x288 with 1 Axes>"
      ]
     },
     "metadata": {
      "needs_background": "light"
     },
     "output_type": "display_data"
    },
    {
     "data": {
      "image/png": "[encoded data removed]",
      "text/plain": [
       "<Figure size 432x288 with 1 Axes>"
      ]
     },
     "metadata": {
      "needs_background": "light"
     },
     "output_type": "display_data"
    },
    {
     "data": {
      "image/png": "[encoded data removed]",
      "text/plain": [
       "<Figure size 432x288 with 1 Axes>"
      ]
     },
     "metadata": {
      "needs_background": "light"
     },
     "output_type": "display_data"
    }
   ],
   "source": [
    "clf = svm.SVC(gamma=0.001)\n",
    "X_train, X_test, y_train, y_test = train_test_split(\n",
    "    data, digits.target, test_size=0.8, shuffle=False\n",
    ")\n",
    "clf.fit(X_train, y_train)\n",
    "predicted = clf.predict(X_test)\n",
    "for img, gt_label, pr_label in zip(X_test[:3], y_test[:3], predicted[:3]):\n",
    "    plt.figure()\n",
    "    plt.imshow(img.reshape(8,8), cmap=plt.cm.gray_r)\n",
    "    plt.title(f\"True label {gt_label}, Predicted label {pr_label}\")"
   ]
  },
  {
   "cell_type": "markdown",
   "metadata": {
    "id": "KcCStyZrBW-E"
   },
   "source": [
    "## 3.5 t-sne"
   ]
  },
  {
   "cell_type": "code",
   "execution_count": 16,
   "metadata": {
    "colab": {
     "base_uri": "https://localhost:8080/",
     "height": 273
    },
    "id": "r2JSx0rUBaEp",
    "outputId": "9016b902-7e86-4874-a3e7-fc76738d3d02"
   },
   "outputs": [
    {
     "data": {
      "image/png": "[encoded data removed]",
      "text/plain": [
       "<Figure size 432x288 with 1 Axes>"
      ]
     },
     "metadata": {
      "needs_background": "light"
     },
     "output_type": "display_data"
    }
   ],
   "source": [
    "from sklearn import manifold\n",
    "import numpy as np\n",
    "\n",
    "X_train[0:2]\n",
    "\n",
    "tsne = manifold.TSNE(n_components=2, init='pca', random_state=0)\n",
    "X_tsne = tsne.fit_transform(X_train)\n",
    "\n",
    "a, b = X_tsne.T\n",
    "a = (a - np.min(a)) / (np.max(a) - np.min(a))\n",
    "b = (b - np.min(b)) / (np.max(b) - np.min(b))\n",
    "\n",
    "plt.figure()\n",
    "for a1, b1, label in zip(a[:200], b[:200], y_train):\n",
    "#     print(a1, b1, label)\n",
    "    plt.text(a1, b1, label)"
   ]
  },
  {
   "cell_type": "markdown",
   "metadata": {
    "id": "JkJGl_myugDW"
   },
   "source": [
    "# 4. PyTorch"
   ]
  },
  {
   "cell_type": "markdown",
   "metadata": {
    "id": "hVCyA2YAunA4"
   },
   "source": [
    "## 4.1 Tensor calculation on \"cpu\" or \"gpu\""
   ]
  },
  {
   "cell_type": "code",
   "execution_count": 17,
   "metadata": {
    "id": "nVRBlnFaulTw"
   },
   "outputs": [],
   "source": [
    "x = [[1,2],[3,4]]\n",
    "y = [[10,20],[30,40]]\n",
    "\n",
    "##\n",
    "x + y\n",
    "\n",
    "##\n",
    "xt = torch.tensor(x)\n",
    "yt = torch.tensor(y)\n",
    "\n",
    "xt+yt\n",
    "\n",
    "##\n",
    "xt@yt\n",
    "\n",
    "##\n",
    "xt*yt\n",
    "\n",
    "##\n",
    "torch.einsum('ij,jk->ik', xt,yt)\n",
    "\n",
    "##\n",
    "if torch.cuda.is_available():\n",
    "    xtg = xt.to(\"cuda\")"
   ]
  },
  {
   "cell_type": "markdown",
   "metadata": {
    "id": "R-uftWOQu7IS"
   },
   "source": [
    "## 4.2 Automatic Differentiation"
   ]
  },
  {
   "cell_type": "markdown",
   "metadata": {
    "id": "Jfudw_igvCfO"
   },
   "source": [
    "$ loss = |f(x) - y|^2 $\n",
    "\n",
    "$ \\frac{\\partial loss}{\\partial w} = 2 (f(x) - y) f'(x) = 2(f(x) -y ) x $\n",
    "\n",
    "But, how about \n",
    "\n",
    "$ loss = | f(g(h(f(f(x))))) - y |^2$?"
   ]
  },
  {
   "cell_type": "code",
   "execution_count": 18,
   "metadata": {
    "colab": {
     "base_uri": "https://localhost:8080/"
    },
    "id": "XAHXuk4mu_bz",
    "outputId": "ffc2a7d9-a671-4840-fe50-f441931f9653"
   },
   "outputs": [
    {
     "data": {
      "text/plain": [
       "tensor(1355.9524)"
      ]
     },
     "execution_count": 18,
     "metadata": {},
     "output_type": "execute_result"
    }
   ],
   "source": [
    "def f(w, b, x):\n",
    "    return w*x + b\n",
    "\n",
    "w = torch.tensor(1.3, requires_grad=True)\n",
    "y = torch.tensor(2.0)\n",
    "x = torch.tensor(1.0)\n",
    "b = torch.tensor(3.0)\n",
    "\n",
    "##\n",
    "y_pr = f(w,b,x)\n",
    "loss = (y_pr - y)**2\n",
    "loss\n",
    "\n",
    "## Manual calculatoin\n",
    "2*(f(w,b,x) - y)*x\n",
    "\n",
    "## Automatic differentiation\n",
    "loss.backward()\n",
    "w.grad\n",
    "\n",
    "## \n",
    "y_pr = f(w,b,f(w,b,f(w,b,f(w,b,x))))\n",
    "loss = (y_pr - y)**2\n",
    "loss.backward()\n",
    "w.grad"
   ]
  },
  {
   "cell_type": "markdown",
   "metadata": {
    "id": "yy0qAKJ1vYyI"
   },
   "source": [
    "## 4.3 Learning"
   ]
  },
  {
   "cell_type": "code",
   "execution_count": 19,
   "metadata": {
    "id": "s8TjvqZ8vc-S"
   },
   "outputs": [],
   "source": [
    "import json\n",
    "import torch"
   ]
  },
  {
   "cell_type": "markdown",
   "metadata": {
    "id": "pWBF_MGgvgKe"
   },
   "source": [
    "### 4.3.1 Data"
   ]
  },
  {
   "cell_type": "code",
   "execution_count": 20,
   "metadata": {
    "colab": {
     "base_uri": "https://localhost:8080/"
    },
    "id": "5YkkX5iZvjAO",
    "outputId": "b6a85d3c-12b3-48d3-fabe-d14e1c4ea944"
   },
   "outputs": [
    {
     "name": "stdout",
     "output_type": "stream",
     "text": [
      "45678 9107\n"
     ]
    }
   ],
   "source": [
    "path_train_data = './KLUE/klue_benchmark/ynat-v1.1/ynat-v1.1_train.json'\n",
    "path_dev_data = './KLUE/klue_benchmark/ynat-v1.1/ynat-v1.1_dev.json'\n",
    "\n",
    "## \n",
    "with open(path_train_data, 'r') as f:\n",
    "    data_t = json.load(f)\n",
    "with open(path_dev_data, 'r') as f:\n",
    "    data_d = json.load(f)\n",
    "\n",
    "##\n",
    "print(len(data_t), len(data_d))\n",
    "\n",
    "##\n",
    "data_t[0]\n",
    "\n",
    "##\n",
    "texts_t = [x[\"title\"] for x in data_t]\n",
    "labels_t = [x[\"label\"] for x in data_t]\n",
    "texts_d = [x[\"title\"] for x in data_d]\n",
    "labels_d = [x[\"label\"] for x in data_d]"
   ]
  },
  {
   "cell_type": "markdown",
   "metadata": {
    "id": "64Jt7-x8v5zH"
   },
   "source": [
    "### 4.3.2 Characters -> Integers -> Vectors"
   ]
  },
  {
   "cell_type": "code",
   "execution_count": 21,
   "metadata": {
    "id": "ZJizoWskv9Qg"
   },
   "outputs": [],
   "source": [
    "label_types = list(set(labels_t))\n",
    "n_labels = len(label_types)\n",
    "\n",
    "## \n",
    "vocab = []\n",
    "for text in texts_t:\n",
    "    for char in text:\n",
    "        if char not in vocab:\n",
    "            vocab.append(char)\n",
    "\n",
    "for text in texts_d:\n",
    "    for char in text:\n",
    "        if char not in vocab:\n",
    "            vocab.append(char)\n",
    "\n",
    "##\n",
    "n_vocab = len(vocab)\n",
    "n_vocab\n",
    "vocab_dict = {char: i for i, char in enumerate(vocab)}\n",
    "label_dict = {label: i for i, label in enumerate(label_types)}\n",
    "\n",
    "##\n",
    "vocab_emb = torch.nn.Embedding(n_vocab, 50)\n",
    "layer1 = torch.nn.Linear(50, n_labels)\n",
    "\n",
    "##\n",
    "text = texts_t[0]\n",
    "label = labels_t[0]\n",
    "\n",
    "##\n",
    "text_ids = [[vocab_dict[char] for char in text]]\n",
    "label_id = [label_dict[label]]\n",
    "\n",
    "##\n",
    "text_ids_tensor = torch.tensor(text_ids)\n",
    "label_id_tensor = torch.tensor(label_id)\n",
    "\n",
    "##\n",
    "text_tensor = vocab_emb(text_ids_tensor)\n",
    "\n",
    "##\n",
    "text_tensor_sum = text_tensor.sum(dim=1)\n",
    "out = layer1(text_tensor_sum)\n",
    "\n",
    "##\n",
    "loss = torch.nn.CrossEntropyLoss()(out, label_id_tensor)\n",
    "\n",
    "##\n",
    "pr_label = label_types[out.argmax()]"
   ]
  },
  {
   "cell_type": "markdown",
   "metadata": {
    "id": "Y1MP7pNrwRyL"
   },
   "source": [
    "### 4.3.3 Training"
   ]
  },
  {
   "cell_type": "code",
   "execution_count": 22,
   "metadata": {
    "colab": {
     "base_uri": "https://localhost:8080/"
    },
    "id": "riv67AttwUlW",
    "outputId": "d8cd2c1e-d835-4600-8fc5-1882b822eab3"
   },
   "outputs": [
    {
     "name": "stdout",
     "output_type": "stream",
     "text": [
      "Accuracy: 0.2\n",
      "epoch: 0, loss: 3.2859394550323486\n",
      "text: 유혹의 색 라즈베리 로즈 입은 LG V30, label: IT과학, prediction: 생활문화\n",
      "Accuracy: 0.957\n",
      "epoch: 10, loss: 0.004613826051354408\n",
      "text: 유혹의 색 라즈베리 로즈 입은 LG V30, label: IT과학, prediction: IT과학\n"
     ]
    }
   ],
   "source": [
    "list_of_param = list(vocab_emb.parameters()) + list(layer1.parameters())\n",
    "optim = torch.optim.Adam(list_of_param, lr=0.001)\n",
    "\n",
    "##\n",
    "for epoch in range(20):\n",
    "    cnt = 0\n",
    "    correct = 0\n",
    "    for step, (text, label) in enumerate(zip(texts_t[:1000], labels_t[:1000])):\n",
    "        \n",
    "        text_ids = [[vocab_dict[char] for char in text]]\n",
    "        label_id = [label_dict[label]]\n",
    "\n",
    "        text_ids_tensor = torch.tensor(text_ids)\n",
    "        label_id_tensor = torch.tensor(label_id)\n",
    "\n",
    "        text_tensor = vocab_emb(text_ids_tensor)\n",
    "        text_tensor_sum = text_tensor.sum(dim=1)\n",
    "        out = layer1(text_tensor_sum)\n",
    "\n",
    "        loss = torch.nn.CrossEntropyLoss()(out, label_id_tensor)\n",
    "        optim.zero_grad()\n",
    "        loss.backward()\n",
    "        optim.step()\n",
    "        \n",
    "        pr_label = label_types[out.argmax()]\n",
    "        if pr_label == label:\n",
    "            correct += 1\n",
    "        cnt += 1\n",
    "    if epoch % 10 == 0:\n",
    "        print(f\"Accuracy: {correct/cnt}\")\n",
    "        print(f\"epoch: {epoch}, loss: {loss.item()}\")\n",
    "        print(f\"text: {text}, label: {label}, prediction: {pr_label}\")"
   ]
  },
  {
   "cell_type": "code",
   "execution_count": 23,
   "metadata": {
    "colab": {
     "base_uri": "https://localhost:8080/",
     "height": 35
    },
    "id": "-hv2cugawZrB",
    "outputId": "03be7d8c-e07a-47b0-e1c7-9db30a7caf5c"
   },
   "outputs": [
    {
     "data": {
      "text/plain": [
       "'IT과학'"
      ]
     },
     "execution_count": 23,
     "metadata": {},
     "output_type": "execute_result"
    }
   ],
   "source": [
    "text = \"오늘은 미세먼지가 심하겠습니다.\"\n",
    "# text = \"스마트폰의 시대가 온다\"\n",
    "\n",
    "text_ids = [[vocab_dict[char] for char in text]]\n",
    "text_ids_tensor = torch.tensor(text_ids)\n",
    "text_tensor = vocab_emb(text_ids_tensor)\n",
    "text_tensor_sum = text_tensor.sum(dim=1)\n",
    "out = layer1(text_tensor_sum)\n",
    "\n",
    "pr_label = label_types[out.argmax()]\n",
    "pr_label"
   ]
  },
  {
   "cell_type": "markdown",
   "metadata": {
    "id": "RtBsWup3wd0Y"
   },
   "source": [
    "# 5. Text generation"
   ]
  },
  {
   "cell_type": "code",
   "execution_count": 24,
   "metadata": {
    "colab": {
     "base_uri": "https://localhost:8080/"
    },
    "id": "7udDZrA7w9lk",
    "outputId": "6b3d51a1-6ed3-4ff1-ce55-01a112248ea9"
   },
   "outputs": [
    {
     "name": "stderr",
     "output_type": "stream",
     "text": [
      "The tokenizer class you load from this checkpoint is not the same type as the class this function is called from. It may result in unexpected tokenization. \n",
      "The tokenizer class you load from this checkpoint is 'GPT2Tokenizer'. \n",
      "The class this function is called from is 'PreTrainedTokenizerFast'.\n"
     ]
    },
    {
     "data": {
      "text/plain": [
       "['▁오늘',\n",
       " '도',\n",
       " '▁날씨가',\n",
       " '▁좋',\n",
       " '네',\n",
       " '요.',\n",
       " '▁비가',\n",
       " '▁주',\n",
       " '룩',\n",
       " '주',\n",
       " '룩',\n",
       " '▁',\n",
       " '옵',\n",
       " '니다.']"
      ]
     },
     "execution_count": 24,
     "metadata": {},
     "output_type": "execute_result"
    }
   ],
   "source": [
    "model_name = \"skt/kogpt2-base-v2\"\n",
    "tokenizer = PreTrainedTokenizerFast.from_pretrained(model_name)\n",
    "tokenizer.tokenize(\"오늘도 날씨가 좋네요. 비가 주룩주룩 옵니다.\")"
   ]
  },
  {
   "cell_type": "code",
   "execution_count": 25,
   "metadata": {
    "colab": {
     "base_uri": "https://localhost:8080/"
    },
    "id": "NPqxSfc3w_iZ",
    "outputId": "0dc9838d-99f3-413b-ae65-06be48c153e5"
   },
   "outputs": [
    {
     "name": "stderr",
     "output_type": "stream",
     "text": [
      "The tokenizer class you load from this checkpoint is not the same type as the class this function is called from. It may result in unexpected tokenization. \n",
      "The tokenizer class you load from this checkpoint is 'GPT2Tokenizer'. \n",
      "The class this function is called from is 'PreTrainedTokenizerFast'.\n"
     ]
    }
   ],
   "source": [
    "model = GPT2LMHeadModel.from_pretrained(model_name)\n",
    "tokenizer = PreTrainedTokenizerFast.from_pretrained(model_name)"
   ]
  },
  {
   "cell_type": "code",
   "execution_count": 26,
   "metadata": {
    "colab": {
     "base_uri": "https://localhost:8080/"
    },
    "id": "YuKRbj7GxMn0",
    "outputId": "5cb90ed4-c485-45d1-bba4-cde563490ba1"
   },
   "outputs": [
    {
     "name": "stdout",
     "output_type": "stream",
     "text": [
      "'인공지능 연구자와 원숭이의 IQ 차이는 거의 없는 것으로 나타났다.\\n연구'\n"
     ]
    }
   ],
   "source": [
    "text = \"인공지능 연구자와 원숭이의 IQ 차이는\"\n",
    "input_ids = tokenizer.encode(text)\n",
    "gen_ids = model.generate(torch.tensor([input_ids]),\n",
    "                         max_length=15,\n",
    "                         repetition_penalty=2.0,\n",
    "                         pad_token_id=tokenizer.pad_token_id,\n",
    "                         eos_token_id=tokenizer.eos_token_id,\n",
    "                         use_cache=True)\n",
    "pprint(tokenizer.decode(gen_ids[0]))"
   ]
  },
  {
   "cell_type": "markdown",
   "metadata": {
    "id": "IEK9lkfMxQto"
   },
   "source": [
    "# 6. Machine Reading Comprehension"
   ]
  },
  {
   "cell_type": "code",
   "execution_count": 27,
   "metadata": {
    "colab": {
     "base_uri": "https://localhost:8080/",
     "height": 35
    },
    "id": "DR5qv-N-xixD",
    "outputId": "e4d5f0d2-14a4-453b-b880-902a435aa0fe"
   },
   "outputs": [
    {
     "data": {
      "text/plain": [
       "' Einstein'"
      ]
     },
     "execution_count": 27,
     "metadata": {},
     "output_type": "execute_result"
    }
   ],
   "source": [
    "from transformers import AutoModelForQuestionAnswering, AutoTokenizer, pipeline\n",
    "\n",
    "model_name = \"deepset/roberta-base-squad2\"\n",
    "\n",
    "model = AutoModelForQuestionAnswering.from_pretrained(model_name)\n",
    "tokenizer = AutoTokenizer.from_pretrained(model_name)\n",
    "\n",
    "##\n",
    "question = \"Who ate cheese?\"\n",
    "context = \"According to the reliable historical literature, Fynmann likes fruits and Einstein likes a dairy product.\"\n",
    "\n",
    "data_in = tokenizer(question,context)\n",
    "\n",
    "##\n",
    "input_ids_tensor = torch.tensor(data_in[\"input_ids\"]).unsqueeze(0)\n",
    "attention_mask_tensor = torch.tensor(data_in[\"attention_mask\"]).unsqueeze(0)\n",
    "\n",
    "##\n",
    "out = model(input_ids_tensor)\n",
    "\n",
    "##\n",
    "out.keys()\n",
    "\n",
    "##\n",
    "st_idx = out[\"start_logits\"].argmax(-1)\n",
    "st_idx\n",
    "\n",
    "##\n",
    "ed_idx = out[\"end_logits\"].argmax(-1)\n",
    "ed_idx\n",
    "\n",
    "##\n",
    "tokenizer.decode(input_ids_tensor[0][st_idx:ed_idx+1])"
   ]
  },
  {
   "cell_type": "markdown",
   "metadata": {
    "id": "tDj3YHQjx4fe"
   },
   "source": [
    "# 6. Face generation"
   ]
  },
  {
   "cell_type": "markdown",
   "metadata": {
    "id": "RwH4qcZWcEzI"
   },
   "source": [
    "## 6.1 Download StyleGan2 library and the trained model\n",
    "## 6.2 Modify the code to run on cpus."
   ]
  },
  {
   "cell_type": "code",
   "execution_count": 28,
   "metadata": {
    "colab": {
     "base_uri": "https://localhost:8080/"
    },
    "id": "Ffliuu5na01h",
    "outputId": "cebf6ea2-33f9-47b1-8d3a-6ba420d8fdb9"
   },
   "outputs": [
    {
     "name": "stdout",
     "output_type": "stream",
     "text": [
      "/Users/wonseok/workspace/ai_lib/temp/stylegan2-ada-pytorch\n",
      "huggingface/tokenizers: The current process just got forked, after parallelism has already been used. Disabling parallelism to avoid deadlocks...\n",
      "To disable this warning, you can either:\n",
      "\t- Avoid using `tokenizers` before the fork if possible\n",
      "\t- Explicitly set the environment variable TOKENIZERS_PARALLELISM=(true | false)\n",
      "    device = torch.device('cuda')\n",
      "huggingface/tokenizers: The current process just got forked, after parallelism has already been used. Disabling parallelism to avoid deadlocks...\n",
      "To disable this warning, you can either:\n",
      "\t- Avoid using `tokenizers` before the fork if possible\n",
      "\t- Explicitly set the environment variable TOKENIZERS_PARALLELISM=(true | false)\n",
      "huggingface/tokenizers: The current process just got forked, after parallelism has already been used. Disabling parallelism to avoid deadlocks...\n",
      "To disable this warning, you can either:\n",
      "\t- Avoid using `tokenizers` before the fork if possible\n",
      "\t- Explicitly set the environment variable TOKENIZERS_PARALLELISM=(true | false)\n",
      "    device = torch.device(\"cpu\")\n",
      "huggingface/tokenizers: The current process just got forked, after parallelism has already been used. Disabling parallelism to avoid deadlocks...\n",
      "To disable this warning, you can either:\n",
      "\t- Avoid using `tokenizers` before the fork if possible\n",
      "\t- Explicitly set the environment variable TOKENIZERS_PARALLELISM=(true | false)\n",
      "        img = G(z, label, truncation_psi=truncation_psi, noise_mode=noise_mode)\n",
      "huggingface/tokenizers: The current process just got forked, after parallelism has already been used. Disabling parallelism to avoid deadlocks...\n",
      "To disable this warning, you can either:\n",
      "\t- Avoid using `tokenizers` before the fork if possible\n",
      "\t- Explicitly set the environment variable TOKENIZERS_PARALLELISM=(true | false)\n",
      "huggingface/tokenizers: The current process just got forked, after parallelism has already been used. Disabling parallelism to avoid deadlocks...\n",
      "To disable this warning, you can either:\n",
      "\t- Avoid using `tokenizers` before the fork if possible\n",
      "\t- Explicitly set the environment variable TOKENIZERS_PARALLELISM=(true | false)\n",
      "        img = G(z, label, truncation_psi=truncation_psi, noise_mode=noise_mode, force_fp32=True)\n"
     ]
    }
   ],
   "source": [
    "%cd stylegan2-ada-pytorch\n",
    "!sed -n '82p' generate.py \n",
    "!sed -ie '82s/.*/    device = torch.device(\"cpu\")/' generate.py\n",
    "!sed -n '82p' generate.py\n",
    "\n",
    "!sed -n '119p' generate.py\n",
    "!sed -ie '119s/.*/        img = G(z, label, truncation_psi=truncation_psi, noise_mode=noise_mode, force_fp32=True)/' generate.py\n",
    "!sed -n '119p' generate.py"
   ]
  },
  {
   "cell_type": "markdown",
   "metadata": {
    "id": "7CrDE9cVngxL"
   },
   "source": [
    "## 6.3 Import required libraries\n",
    "\n"
   ]
  },
  {
   "cell_type": "code",
   "execution_count": 29,
   "metadata": {
    "id": "WSUvnKuAbMcq"
   },
   "outputs": [],
   "source": [
    "import sys, os\n",
    "from  pathlib import Path\n",
    "\n",
    "project_dir = Path(\"/content/stylegan2-ada-pytorch\")\n",
    "sys.path.append(os.path.abspath(project_dir))\n",
    "\n",
    "import torch\n",
    "import numpy as np\n",
    "import matplotlib.pylab as plt\n",
    "\n",
    "import legacy"
   ]
  },
  {
   "cell_type": "markdown",
   "metadata": {
    "id": "nsp_qRp9nle8"
   },
   "source": [
    "## 6.4. Generate artificial image\n",
    "\n"
   ]
  },
  {
   "cell_type": "code",
   "execution_count": 30,
   "metadata": {
    "colab": {
     "base_uri": "https://localhost:8080/"
    },
    "id": "dicWV5iEjyz2",
    "outputId": "be8a91f5-6391-4567-8714-b6c327cef3bc"
   },
   "outputs": [
    {
     "name": "stdout",
     "output_type": "stream",
     "text": [
      "huggingface/tokenizers: The current process just got forked, after parallelism has already been used. Disabling parallelism to avoid deadlocks...\n",
      "To disable this warning, you can either:\n",
      "\t- Avoid using `tokenizers` before the fork if possible\n",
      "\t- Explicitly set the environment variable TOKENIZERS_PARALLELISM=(true | false)\n",
      "        z = torch.from_numpy(np.random.RandomState(seed).randn(1, G.z_dim)).to(device)\n",
      "huggingface/tokenizers: The current process just got forked, after parallelism has already been used. Disabling parallelism to avoid deadlocks...\n",
      "To disable this warning, you can either:\n",
      "\t- Avoid using `tokenizers` before the fork if possible\n",
      "\t- Explicitly set the environment variable TOKENIZERS_PARALLELISM=(true | false)\n",
      "huggingface/tokenizers: The current process just got forked, after parallelism has already been used. Disabling parallelism to avoid deadlocks...\n",
      "To disable this warning, you can either:\n",
      "\t- Avoid using `tokenizers` before the fork if possible\n",
      "\t- Explicitly set the environment variable TOKENIZERS_PARALLELISM=(true | false)\n",
      "huggingface/tokenizers: The current process just got forked, after parallelism has already been used. Disabling parallelism to avoid deadlocks...\n",
      "To disable this warning, you can either:\n",
      "\t- Avoid using `tokenizers` before the fork if possible\n",
      "\t- Explicitly set the environment variable TOKENIZERS_PARALLELISM=(true | false)\n",
      "Loading networks from \"../ffhq.pkl\"...\n",
      "Generating image for seed 1 (0/1) ...\n",
      "[W NNPACK.cpp:79] Could not initialize NNPACK! Reason: Unsupported hardware.\n"
     ]
    }
   ],
   "source": [
    "!sed -n '118p' generate.py\n",
    "!sed -ie '118s/.*/        z = torch.from_numpy(np.random.RandomState(seed).randn(1, G.z_dim)).to(device)\\n/' generate.py\n",
    "!sed -ie '119s/.*/        z += 0*torch.randn(1, G.z_dim).to(device)/' generate.py\n",
    "\n",
    "!python generate.py --outdir=out --network ../ffhq.pkl --seeds=1"
   ]
  },
  {
   "cell_type": "markdown",
   "metadata": {
    "id": "qo4IUAq-n1fk"
   },
   "source": [
    "## 6.5 Plot the generated images"
   ]
  },
  {
   "cell_type": "code",
   "execution_count": 31,
   "metadata": {
    "colab": {
     "base_uri": "https://localhost:8080/",
     "height": 286
    },
    "id": "LJZ3exsynr2d",
    "outputId": "04bc2c94-8098-4271-fb3e-39bbfbe05326"
   },
   "outputs": [
    {
     "name": "stdout",
     "output_type": "stream",
     "text": [
      "out/seed0001.png\n"
     ]
    },
    {
     "data": {
      "image/png": "[encoded data removed]",
      "text/plain": [
       "<Figure size 432x288 with 1 Axes>"
      ]
     },
     "metadata": {
      "needs_background": "light"
     },
     "output_type": "display_data"
    }
   ],
   "source": [
    "fnames = os.listdir('./out')\n",
    "for fname in fnames:\n",
    "  if fname.endswith('.png'):\n",
    "    path_load = Path('./out') / fname \n",
    "    print(path_load)\n",
    "    img = plt.imread(path_load)\n",
    "    plt.figure()\n",
    "    plt.imshow(img)"
   ]
  }
 ],
 "metadata": {
  "colab": {
   "collapsed_sections": [],
   "name": "20210818_ai_lib_tutorial_full.ipynb",
   "provenance": []
  },
  "kernelspec": {
   "display_name": "Python 3 (ipykernel)",
   "language": "python",
   "name": "python3"
  },
  "language_info": {
   "codemirror_mode": {
    "name": "ipython",
    "version": 3
   },
   "file_extension": ".py",
   "mimetype": "text/x-python",
   "name": "python",
   "nbconvert_exporter": "python",
   "pygments_lexer": "ipython3",
   "version": "3.9.5"
  },
  "widgets": {
   "application/vnd.jupyter.widget-state+json": {
    "0b11813afb8a4f59aa78d196170c158c": {
     "model_module": "@jupyter-widgets/base",
     "model_module_version": "1.2.0",
     "model_name": "LayoutModel",
     "state": {
      "_model_module": "@jupyter-widgets/base",
      "_model_module_version": "1.2.0",
      "_model_name": "LayoutModel",
      "_view_count": null,
      "_view_module": "@jupyter-widgets/base",
      "_view_module_version": "1.2.0",
      "_view_name": "LayoutView",
      "align_content": null,
      "align_items": null,
      "align_self": null,
      "border": null,
      "bottom": null,
      "display": null,
      "flex": null,
      "flex_flow": null,
      "grid_area": null,
      "grid_auto_columns": null,
      "grid_auto_flow": null,
      "grid_auto_rows": null,
      "grid_column": null,
      "grid_gap": null,
      "grid_row": null,
      "grid_template_areas": null,
      "grid_template_columns": null,
      "grid_template_rows": null,
      "height": null,
      "justify_content": null,
      "justify_items": null,
      "left": null,
      "margin": null,
      "max_height": null,
      "max_width": null,
      "min_height": null,
      "min_width": null,
      "object_fit": null,
      "object_position": null,
      "order": null,
      "overflow": null,
      "overflow_x": null,
      "overflow_y": null,
      "padding": null,
      "right": null,
      "top": null,
      "visibility": null,
      "width": null
     }
    },
    "28079cce1235406ba2e5576c5dcd6b2a": {
     "model_module": "@jupyter-widgets/base",
     "model_module_version": "1.2.0",
     "model_name": "LayoutModel",
     "state": {
      "_model_module": "@jupyter-widgets/base",
      "_model_module_version": "1.2.0",
      "_model_name": "LayoutModel",
      "_view_count": null,
      "_view_module": "@jupyter-widgets/base",
      "_view_module_version": "1.2.0",
      "_view_name": "LayoutView",
      "align_content": null,
      "align_items": null,
      "align_self": null,
      "border": null,
      "bottom": null,
      "display": null,
      "flex": null,
      "flex_flow": null,
      "grid_area": null,
      "grid_auto_columns": null,
      "grid_auto_flow": null,
      "grid_auto_rows": null,
      "grid_column": null,
      "grid_gap": null,
      "grid_row": null,
      "grid_template_areas": null,
      "grid_template_columns": null,
      "grid_template_rows": null,
      "height": null,
      "justify_content": null,
      "justify_items": null,
      "left": null,
      "margin": null,
      "max_height": null,
      "max_width": null,
      "min_height": null,
      "min_width": null,
      "object_fit": null,
      "object_position": null,
      "order": null,
      "overflow": null,
      "overflow_x": null,
      "overflow_y": null,
      "padding": null,
      "right": null,
      "top": null,
      "visibility": null,
      "width": null
     }
    },
    "338c5b6aa3664037b7b6d0fd064f238f": {
     "model_module": "@jupyter-widgets/controls",
     "model_module_version": "1.5.0",
     "model_name": "HBoxModel",
     "state": {
      "_dom_classes": [],
      "_model_module": "@jupyter-widgets/controls",
      "_model_module_version": "1.5.0",
      "_model_name": "HBoxModel",
      "_view_count": null,
      "_view_module": "@jupyter-widgets/controls",
      "_view_module_version": "1.5.0",
      "_view_name": "HBoxView",
      "box_style": "",
      "children": [
       "IPY_MODEL_8498157a7fdd4131b6366255f6df9d1c",
       "IPY_MODEL_e12253a10c454aeaa564531731728aa1"
      ],
      "layout": "IPY_MODEL_0b11813afb8a4f59aa78d196170c158c"
     }
    },
    "6ea35b5e4e494a4cb4d01f8ce45c3cd7": {
     "model_module": "@jupyter-widgets/controls",
     "model_module_version": "1.5.0",
     "model_name": "DescriptionStyleModel",
     "state": {
      "_model_module": "@jupyter-widgets/controls",
      "_model_module_version": "1.5.0",
      "_model_name": "DescriptionStyleModel",
      "_view_count": null,
      "_view_module": "@jupyter-widgets/base",
      "_view_module_version": "1.2.0",
      "_view_name": "StyleView",
      "description_width": ""
     }
    },
    "8498157a7fdd4131b6366255f6df9d1c": {
     "model_module": "@jupyter-widgets/controls",
     "model_module_version": "1.5.0",
     "model_name": "FloatProgressModel",
     "state": {
      "_dom_classes": [],
      "_model_module": "@jupyter-widgets/controls",
      "_model_module_version": "1.5.0",
      "_model_name": "FloatProgressModel",
      "_view_count": null,
      "_view_module": "@jupyter-widgets/controls",
      "_view_module_version": "1.5.0",
      "_view_name": "ProgressView",
      "bar_style": "success",
      "description": "Downloading: 100%",
      "description_tooltip": null,
      "layout": "IPY_MODEL_9aabf843dd4e4bb38d1e06dad093cb70",
      "max": 513302779,
      "min": 0,
      "orientation": "horizontal",
      "style": "IPY_MODEL_fffe010a840f4734a95813f3e6e0a735",
      "value": 513302779
     }
    },
    "9aabf843dd4e4bb38d1e06dad093cb70": {
     "model_module": "@jupyter-widgets/base",
     "model_module_version": "1.2.0",
     "model_name": "LayoutModel",
     "state": {
      "_model_module": "@jupyter-widgets/base",
      "_model_module_version": "1.2.0",
      "_model_name": "LayoutModel",
      "_view_count": null,
      "_view_module": "@jupyter-widgets/base",
      "_view_module_version": "1.2.0",
      "_view_name": "LayoutView",
      "align_content": null,
      "align_items": null,
      "align_self": null,
      "border": null,
      "bottom": null,
      "display": null,
      "flex": null,
      "flex_flow": null,
      "grid_area": null,
      "grid_auto_columns": null,
      "grid_auto_flow": null,
      "grid_auto_rows": null,
      "grid_column": null,
      "grid_gap": null,
      "grid_row": null,
      "grid_template_areas": null,
      "grid_template_columns": null,
      "grid_template_rows": null,
      "height": null,
      "justify_content": null,
      "justify_items": null,
      "left": null,
      "margin": null,
      "max_height": null,
      "max_width": null,
      "min_height": null,
      "min_width": null,
      "object_fit": null,
      "object_position": null,
      "order": null,
      "overflow": null,
      "overflow_x": null,
      "overflow_y": null,
      "padding": null,
      "right": null,
      "top": null,
      "visibility": null,
      "width": null
     }
    },
    "e12253a10c454aeaa564531731728aa1": {
     "model_module": "@jupyter-widgets/controls",
     "model_module_version": "1.5.0",
     "model_name": "HTMLModel",
     "state": {
      "_dom_classes": [],
      "_model_module": "@jupyter-widgets/controls",
      "_model_module_version": "1.5.0",
      "_model_name": "HTMLModel",
      "_view_count": null,
      "_view_module": "@jupyter-widgets/controls",
      "_view_module_version": "1.5.0",
      "_view_name": "HTMLView",
      "description": "",
      "description_tooltip": null,
      "layout": "IPY_MODEL_28079cce1235406ba2e5576c5dcd6b2a",
      "placeholder": "​",
      "style": "IPY_MODEL_6ea35b5e4e494a4cb4d01f8ce45c3cd7",
      "value": " 513M/513M [00:15&lt;00:00, 32.2MB/s]"
     }
    },
    "fffe010a840f4734a95813f3e6e0a735": {
     "model_module": "@jupyter-widgets/controls",
     "model_module_version": "1.5.0",
     "model_name": "ProgressStyleModel",
     "state": {
      "_model_module": "@jupyter-widgets/controls",
      "_model_module_version": "1.5.0",
      "_model_name": "ProgressStyleModel",
      "_view_count": null,
      "_view_module": "@jupyter-widgets/base",
      "_view_module_version": "1.2.0",
      "_view_name": "StyleView",
      "bar_color": null,
      "description_width": "initial"
     }
    }
   }
  }
 },
 "nbformat": 4,
 "nbformat_minor": 1
}
